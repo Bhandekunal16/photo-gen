{
 "cells": [
  {
   "cell_type": "code",
   "execution_count": 131,
   "metadata": {},
   "outputs": [
    {
     "name": "stdout",
     "output_type": "stream",
     "text": [
      "✅ Loaded: Screenshot from 2024-07-22 10-08-09.png, Label: 0\n",
      "✅ Loaded: shared image.jpeg, Label: 0\n",
      "✅ Loaded: MicrosoftTeams-image.png, Label: 0\n",
      "✅ Loaded: download.jpeg, Label: 0\n",
      "✅ Loaded: wallpaper.png, Label: 1\n",
      "Class Distribution: {np.int64(0): np.int64(16), np.int64(1): np.int64(4)}\n"
     ]
    }
   ],
   "source": [
    "import cv2\n",
    "import numpy as np\n",
    "import os\n",
    "import tensorflow as tf\n",
    "from tensorflow.keras.models import Sequential\n",
    "from tensorflow.keras.layers import Conv2D, MaxPooling2D, Flatten, Dense\n",
    "from tensorflow.keras.models import load_model\n",
    "from sklearn.utils import shuffle\n",
    "from sklearn.utils.class_weight import compute_class_weight\n",
    "\n",
    "\n",
    "\n",
    "def augment_image(image):\n",
    "    augmented_images = []\n",
    "    augmented_images.append(cv2.flip(image, 1)) \n",
    "    rows, cols, _ = image.shape\n",
    "    M = cv2.getRotationMatrix2D((cols//2, rows//2), 15, 1)  \n",
    "    augmented_images.append(cv2.warpAffine(image, M, (cols, rows)))\n",
    "    bright = np.clip(image * 1.2, 0, 1)\n",
    "    augmented_images.append(bright)\n",
    "    return augmented_images\n",
    "\n",
    "def load_images_from_folder(folder, label, img_size=(64, 64), augment=False):\n",
    "    images = []\n",
    "    labels = []\n",
    "    for filename in os.listdir(folder):\n",
    "        img = cv2.imread(os.path.join(folder, filename))\n",
    "        if img is not None:\n",
    "            img = cv2.resize(img, img_size)\n",
    "            img = img / 255.0\n",
    "            images.append(img)\n",
    "            labels.append(label)\n",
    "\n",
    "            if augment:\n",
    "                for aug_img in augment_image(img):\n",
    "                    images.append(aug_img)\n",
    "                    labels.append(label)\n",
    "\n",
    "            print(f\"✅ Loaded: {filename}, Label: {label}\")\n",
    "    return images, labels\n",
    "\n",
    "\n",
    "first_images, first_labels = load_images_from_folder(\"./images/normal\", 0, augment=True)\n",
    "second_images, second_labels = load_images_from_folder(\"./images/wallpaper\", 1, augment=True)\n",
    "\n",
    "X = np.array(first_images + second_images )\n",
    "y = np.array(first_labels + second_labels)\n",
    "\n",
    "\n",
    "unique, counts = np.unique(y, return_counts=True)\n",
    "print(\"Class Distribution:\", dict(zip(unique, counts)))\n",
    "\n",
    "X, y = shuffle(X, y, random_state=42)\n"
   ]
  },
  {
   "cell_type": "code",
   "execution_count": null,
   "metadata": {},
   "outputs": [],
   "source": []
  },
  {
   "cell_type": "code",
   "execution_count": 132,
   "metadata": {},
   "outputs": [
    {
     "name": "stdout",
     "output_type": "stream",
     "text": [
      "Epoch 1/10\n"
     ]
    },
    {
     "name": "stderr",
     "output_type": "stream",
     "text": [
      "/home/kunalbhande/.local/lib/python3.10/site-packages/keras/src/layers/convolutional/base_conv.py:107: UserWarning: Do not pass an `input_shape`/`input_dim` argument to a layer. When using Sequential models, prefer using an `Input(shape)` object as the first layer in the model instead.\n",
      "  super().__init__(activity_regularizer=activity_regularizer, **kwargs)\n"
     ]
    },
    {
     "name": "stdout",
     "output_type": "stream",
     "text": [
      "\u001b[1m1/1\u001b[0m \u001b[32m━━━━━━━━━━━━━━━━━━━━\u001b[0m\u001b[37m\u001b[0m \u001b[1m2s\u001b[0m 2s/step - accuracy: 0.3889 - loss: 0.7107 - val_accuracy: 0.0000e+00 - val_loss: 1.4203\n",
      "Epoch 2/10\n",
      "\u001b[1m1/1\u001b[0m \u001b[32m━━━━━━━━━━━━━━━━━━━━\u001b[0m\u001b[37m\u001b[0m \u001b[1m0s\u001b[0m 133ms/step - accuracy: 0.2222 - loss: 0.6347 - val_accuracy: 1.0000 - val_loss: 0.2948\n",
      "Epoch 3/10\n",
      "\u001b[1m1/1\u001b[0m \u001b[32m━━━━━━━━━━━━━━━━━━━━\u001b[0m\u001b[37m\u001b[0m \u001b[1m0s\u001b[0m 142ms/step - accuracy: 0.7778 - loss: 0.5694 - val_accuracy: 1.0000 - val_loss: 0.4075\n",
      "Epoch 4/10\n",
      "\u001b[1m1/1\u001b[0m \u001b[32m━━━━━━━━━━━━━━━━━━━━\u001b[0m\u001b[37m\u001b[0m \u001b[1m0s\u001b[0m 134ms/step - accuracy: 1.0000 - loss: 0.3963 - val_accuracy: 0.5000 - val_loss: 0.5944\n",
      "Epoch 5/10\n",
      "\u001b[1m1/1\u001b[0m \u001b[32m━━━━━━━━━━━━━━━━━━━━\u001b[0m\u001b[37m\u001b[0m \u001b[1m0s\u001b[0m 133ms/step - accuracy: 0.8333 - loss: 0.3034 - val_accuracy: 0.5000 - val_loss: 0.4566\n",
      "Epoch 6/10\n",
      "\u001b[1m1/1\u001b[0m \u001b[32m━━━━━━━━━━━━━━━━━━━━\u001b[0m\u001b[37m\u001b[0m \u001b[1m0s\u001b[0m 142ms/step - accuracy: 1.0000 - loss: 0.2180 - val_accuracy: 1.0000 - val_loss: 0.1402\n",
      "Epoch 7/10\n",
      "\u001b[1m1/1\u001b[0m \u001b[32m━━━━━━━━━━━━━━━━━━━━\u001b[0m\u001b[37m\u001b[0m \u001b[1m0s\u001b[0m 138ms/step - accuracy: 1.0000 - loss: 0.1403 - val_accuracy: 1.0000 - val_loss: 0.0322\n",
      "Epoch 8/10\n",
      "\u001b[1m1/1\u001b[0m \u001b[32m━━━━━━━━━━━━━━━━━━━━\u001b[0m\u001b[37m\u001b[0m \u001b[1m0s\u001b[0m 130ms/step - accuracy: 1.0000 - loss: 0.0930 - val_accuracy: 1.0000 - val_loss: 0.0188\n",
      "Epoch 9/10\n",
      "\u001b[1m1/1\u001b[0m \u001b[32m━━━━━━━━━━━━━━━━━━━━\u001b[0m\u001b[37m\u001b[0m \u001b[1m0s\u001b[0m 135ms/step - accuracy: 1.0000 - loss: 0.0505 - val_accuracy: 1.0000 - val_loss: 0.0112\n",
      "Epoch 10/10\n",
      "\u001b[1m1/1\u001b[0m \u001b[32m━━━━━━━━━━━━━━━━━━━━\u001b[0m\u001b[37m\u001b[0m \u001b[1m0s\u001b[0m 128ms/step - accuracy: 1.0000 - loss: 0.0304 - val_accuracy: 1.0000 - val_loss: 0.0045\n"
     ]
    },
    {
     "name": "stderr",
     "output_type": "stream",
     "text": [
      "WARNING:absl:You are saving your model as an HDF5 file via `model.save()` or `keras.saving.save_model(model)`. This file format is considered legacy. We recommend using instead the native Keras format, e.g. `model.save('my_model.keras')` or `keras.saving.save_model(model, 'my_model.keras')`. \n"
     ]
    }
   ],
   "source": [
    "model = Sequential([\n",
    "    Conv2D(32, (3,3), activation='relu', input_shape=(64, 64, 3)),\n",
    "    MaxPooling2D(pool_size=(2,2)),\n",
    "    Conv2D(64, (3,3), activation='relu'),\n",
    "    MaxPooling2D(pool_size=(2,2)),\n",
    "    Conv2D(128, (3,3), activation='relu'), \n",
    "    MaxPooling2D(pool_size=(2,2)),\n",
    "    Flatten(),\n",
    "    Dense(256, activation='relu'),  \n",
    "    Dense(1, activation='sigmoid')\n",
    "])\n",
    "\n",
    "\n",
    "model.compile(optimizer='adam', loss='binary_crossentropy', metrics=['accuracy'])\n",
    "\n",
    "class_weights = compute_class_weight(class_weight='balanced', classes=np.unique(y), y=y)\n",
    "class_weights_dict = dict(enumerate(class_weights))\n",
    "\n",
    "model.fit(X, y, epochs=10, batch_size=32, validation_split=0.1, class_weight=class_weights_dict)\n",
    "model.save(\"image_classifier.h5\")\n"
   ]
  },
  {
   "cell_type": "code",
   "execution_count": 133,
   "metadata": {},
   "outputs": [
    {
     "name": "stderr",
     "output_type": "stream",
     "text": [
      "WARNING:absl:Compiled the loaded model, but the compiled metrics have yet to be built. `model.compile_metrics` will be empty until you train or evaluate the model.\n"
     ]
    },
    {
     "name": "stdout",
     "output_type": "stream",
     "text": [
      "\u001b[1m1/1\u001b[0m \u001b[32m━━━━━━━━━━━━━━━━━━━━\u001b[0m\u001b[37m\u001b[0m \u001b[1m0s\u001b[0m 98ms/step\n",
      "⚠️ WARNING: This image might be memorized! 0.99876684\n",
      "wallpaper\n",
      "\u001b[1m1/1\u001b[0m \u001b[32m━━━━━━━━━━━━━━━━━━━━\u001b[0m\u001b[37m\u001b[0m \u001b[1m0s\u001b[0m 38ms/step\n",
      "⚠️ WARNING: This image might be memorized! 0.0002322834\n",
      "normal\n",
      "\u001b[1m1/1\u001b[0m \u001b[32m━━━━━━━━━━━━━━━━━━━━\u001b[0m\u001b[37m\u001b[0m \u001b[1m0s\u001b[0m 42ms/step\n",
      "⚠️ WARNING: This image might be not memorized! 0.15453024\n",
      "normal\n"
     ]
    }
   ],
   "source": [
    "\n",
    "\n",
    "model = load_model(\"image_classifier.h5\")\n",
    "\n",
    "def predict_image(image_path):\n",
    "    img = cv2.imread(image_path)\n",
    "    if img is None:\n",
    "        return \"Error: Unable to load image!\"\n",
    "    \n",
    "    img = cv2.resize(img, (64, 64))\n",
    "    img = img / 255.0\n",
    "    img = np.expand_dims(img, axis=0)\n",
    "    \n",
    "\n",
    "    prediction = model.predict(img)\n",
    "    confidence = float(prediction[0][0])\n",
    "    \n",
    "    if confidence > 0.99 or confidence < 0.01:\n",
    "        print(\"⚠️ WARNING: This image might be memorized!\", prediction[0][0])\n",
    "    else : print(\"⚠️ WARNING: This image might be not memorized!\", prediction[0][0])\n",
    "    \n",
    "    return \"wallpaper\" if confidence > 0.5 else \"normal\"\n",
    "\n",
    "\n",
    "print(predict_image(\"./images/wallpaper/wallpaper.png\"))\n",
    "print(predict_image(\"./images/normal/MicrosoftTeams-image.png\"))\n",
    "print(predict_image(\"../../../../Downloads/x.jpeg\"))\n",
    "\n"
   ]
  },
  {
   "cell_type": "markdown",
   "metadata": {},
   "source": []
  }
 ],
 "metadata": {
  "kernelspec": {
   "display_name": "Python 3",
   "language": "python",
   "name": "python3"
  },
  "language_info": {
   "codemirror_mode": {
    "name": "ipython",
    "version": 3
   },
   "file_extension": ".py",
   "mimetype": "text/x-python",
   "name": "python",
   "nbconvert_exporter": "python",
   "pygments_lexer": "ipython3",
   "version": "3.10.12"
  }
 },
 "nbformat": 4,
 "nbformat_minor": 2
}
